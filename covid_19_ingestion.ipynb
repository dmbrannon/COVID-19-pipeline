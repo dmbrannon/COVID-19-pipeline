{
 "cells": [
  {
   "cell_type": "markdown",
   "metadata": {},
   "source": [
    "# COVID-19 Ingestion\n",
    "### Step 1: Ingest the dataset from Johns Hopkins [CSSEGISandData](https://github.com/CSSEGISandData) repository on GitHub into a GCP bucket\n",
    "We clone the repository and then copy all the files into our bucket. This process creates two bucket subfolders, one for Winter data and one for Spring data."
   ]
  },
  {
   "cell_type": "code",
   "execution_count": 1,
   "metadata": {},
   "outputs": [],
   "source": [
    "bucket_name = \"covid-19-johnshopkins\""
   ]
  },
  {
   "cell_type": "code",
   "execution_count": 2,
   "metadata": {},
   "outputs": [
    {
     "name": "stdout",
     "output_type": "stream",
     "text": [
      "Cloning into 'COVID-19'...\n",
      "remote: Enumerating objects: 14, done.\u001b[K\n",
      "remote: Counting objects: 100% (14/14), done.\u001b[K\n",
      "remote: Compressing objects: 100% (9/9), done.\u001b[K\n",
      "remote: Total 31344 (delta 5), reused 10 (delta 5), pack-reused 31330\u001b[K\n",
      "Receiving objects: 100% (31344/31344), 153.96 MiB | 38.30 MiB/s, done.\n",
      "Resolving deltas: 100% (18366/18366), done.\n"
     ]
    }
   ],
   "source": [
    "!git clone https://github.com/CSSEGISandData/COVID-19.git"
   ]
  },
  {
   "cell_type": "markdown",
   "metadata": {},
   "source": [
    "**WINTER DATA:**"
   ]
  },
  {
   "cell_type": "code",
   "execution_count": 3,
   "metadata": {},
   "outputs": [
    {
     "name": "stdout",
     "output_type": "stream",
     "text": [
      "Copying file://COVID-19/csse_covid_19_data/csse_covid_19_daily_reports/01-22-2020.csv [Content-Type=text/csv]...\n",
      "Copying file://COVID-19/csse_covid_19_data/csse_covid_19_daily_reports/01-23-2020.csv [Content-Type=text/csv]...\n",
      "Copying file://COVID-19/csse_covid_19_data/csse_covid_19_daily_reports/01-24-2020.csv [Content-Type=text/csv]...\n",
      "Copying file://COVID-19/csse_covid_19_data/csse_covid_19_daily_reports/01-25-2020.csv [Content-Type=text/csv]...\n",
      "/ [4 files][  6.8 KiB/  6.8 KiB]                                                \n",
      "==> NOTE: You are performing a sequence of gsutil operations that may\n",
      "run significantly faster if you instead use gsutil -m cp ... Please\n",
      "see the -m section under \"gsutil help options\" for further information\n",
      "about when gsutil -m can be advantageous.\n",
      "\n",
      "Copying file://COVID-19/csse_covid_19_data/csse_covid_19_daily_reports/01-26-2020.csv [Content-Type=text/csv]...\n",
      "Copying file://COVID-19/csse_covid_19_data/csse_covid_19_daily_reports/01-27-2020.csv [Content-Type=text/csv]...\n",
      "Copying file://COVID-19/csse_covid_19_data/csse_covid_19_daily_reports/01-28-2020.csv [Content-Type=text/csv]...\n",
      "Copying file://COVID-19/csse_covid_19_data/csse_covid_19_daily_reports/01-29-2020.csv [Content-Type=text/csv]...\n",
      "Copying file://COVID-19/csse_covid_19_data/csse_covid_19_daily_reports/01-30-2020.csv [Content-Type=text/csv]...\n",
      "Copying file://COVID-19/csse_covid_19_data/csse_covid_19_daily_reports/01-31-2020.csv [Content-Type=text/csv]...\n",
      "- [10 files][ 19.7 KiB/ 19.7 KiB]                                               \n",
      "Operation completed over 10 objects/19.7 KiB.                                    \n"
     ]
    }
   ],
   "source": [
    "!gsutil cp COVID-19/csse_covid_19_data/csse_covid_19_daily_reports/01-*.csv gs://{bucket_name}/01-22-to-03-21"
   ]
  },
  {
   "cell_type": "code",
   "execution_count": 4,
   "metadata": {},
   "outputs": [
    {
     "name": "stdout",
     "output_type": "stream",
     "text": [
      "Copying file://COVID-19/csse_covid_19_data/csse_covid_19_daily_reports/02-01-2020.csv [Content-Type=text/csv]...\n",
      "Copying file://COVID-19/csse_covid_19_data/csse_covid_19_daily_reports/02-02-2020.csv [Content-Type=text/csv]...\n",
      "Copying file://COVID-19/csse_covid_19_data/csse_covid_19_daily_reports/02-03-2020.csv [Content-Type=text/csv]...\n",
      "Copying file://COVID-19/csse_covid_19_data/csse_covid_19_daily_reports/02-04-2020.csv [Content-Type=text/csv]...\n",
      "/ [4 files][ 12.1 KiB/ 12.1 KiB]                                                \n",
      "==> NOTE: You are performing a sequence of gsutil operations that may\n",
      "run significantly faster if you instead use gsutil -m cp ... Please\n",
      "see the -m section under \"gsutil help options\" for further information\n",
      "about when gsutil -m can be advantageous.\n",
      "\n",
      "Copying file://COVID-19/csse_covid_19_data/csse_covid_19_daily_reports/02-05-2020.csv [Content-Type=text/csv]...\n",
      "Copying file://COVID-19/csse_covid_19_data/csse_covid_19_daily_reports/02-06-2020.csv [Content-Type=text/csv]...\n",
      "Copying file://COVID-19/csse_covid_19_data/csse_covid_19_daily_reports/02-07-2020.csv [Content-Type=text/csv]...\n",
      "Copying file://COVID-19/csse_covid_19_data/csse_covid_19_daily_reports/02-08-2020.csv [Content-Type=text/csv]...\n",
      "Copying file://COVID-19/csse_covid_19_data/csse_covid_19_daily_reports/02-09-2020.csv [Content-Type=text/csv]...\n",
      "Copying file://COVID-19/csse_covid_19_data/csse_covid_19_daily_reports/02-10-2020.csv [Content-Type=text/csv]...\n",
      "Copying file://COVID-19/csse_covid_19_data/csse_covid_19_daily_reports/02-11-2020.csv [Content-Type=text/csv]...\n",
      "Copying file://COVID-19/csse_covid_19_data/csse_covid_19_daily_reports/02-12-2020.csv [Content-Type=text/csv]...\n",
      "Copying file://COVID-19/csse_covid_19_data/csse_covid_19_daily_reports/02-13-2020.csv [Content-Type=text/csv]...\n",
      "Copying file://COVID-19/csse_covid_19_data/csse_covid_19_daily_reports/02-14-2020.csv [Content-Type=text/csv]...\n",
      "Copying file://COVID-19/csse_covid_19_data/csse_covid_19_daily_reports/02-15-2020.csv [Content-Type=text/csv]...\n",
      "Copying file://COVID-19/csse_covid_19_data/csse_covid_19_daily_reports/02-16-2020.csv [Content-Type=text/csv]...\n",
      "Copying file://COVID-19/csse_covid_19_data/csse_covid_19_daily_reports/02-17-2020.csv [Content-Type=text/csv]...\n",
      "Copying file://COVID-19/csse_covid_19_data/csse_covid_19_daily_reports/02-18-2020.csv [Content-Type=text/csv]...\n",
      "Copying file://COVID-19/csse_covid_19_data/csse_covid_19_daily_reports/02-19-2020.csv [Content-Type=text/csv]...\n",
      "Copying file://COVID-19/csse_covid_19_data/csse_covid_19_daily_reports/02-20-2020.csv [Content-Type=text/csv]...\n",
      "Copying file://COVID-19/csse_covid_19_data/csse_covid_19_daily_reports/02-21-2020.csv [Content-Type=text/csv]...\n",
      "Copying file://COVID-19/csse_covid_19_data/csse_covid_19_daily_reports/02-22-2020.csv [Content-Type=text/csv]...\n",
      "Copying file://COVID-19/csse_covid_19_data/csse_covid_19_daily_reports/02-23-2020.csv [Content-Type=text/csv]...\n",
      "Copying file://COVID-19/csse_covid_19_data/csse_covid_19_daily_reports/02-24-2020.csv [Content-Type=text/csv]...\n",
      "Copying file://COVID-19/csse_covid_19_data/csse_covid_19_daily_reports/02-25-2020.csv [Content-Type=text/csv]...\n",
      "Copying file://COVID-19/csse_covid_19_data/csse_covid_19_daily_reports/02-26-2020.csv [Content-Type=text/csv]...\n",
      "Copying file://COVID-19/csse_covid_19_data/csse_covid_19_daily_reports/02-27-2020.csv [Content-Type=text/csv]...\n",
      "Copying file://COVID-19/csse_covid_19_data/csse_covid_19_daily_reports/02-28-2020.csv [Content-Type=text/csv]...\n",
      "Copying file://COVID-19/csse_covid_19_data/csse_covid_19_daily_reports/02-29-2020.csv [Content-Type=text/csv]...\n",
      "- [29 files][106.2 KiB/106.2 KiB]                                               \n",
      "==> NOTE: You are performing a sequence of gsutil operations that may\n",
      "run significantly faster if you instead use gsutil -m cp ... Please\n",
      "see the -m section under \"gsutil help options\" for further information\n",
      "about when gsutil -m can be advantageous.\n",
      "\n",
      "\n",
      "Operation completed over 29 objects/106.2 KiB.                                   \n"
     ]
    }
   ],
   "source": [
    "!gsutil cp COVID-19/csse_covid_19_data/csse_covid_19_daily_reports/02-*.csv gs://{bucket_name}/01-22-to-03-21"
   ]
  },
  {
   "cell_type": "code",
   "execution_count": 5,
   "metadata": {},
   "outputs": [
    {
     "name": "stdout",
     "output_type": "stream",
     "text": [
      "Copying file://COVID-19/csse_covid_19_data/csse_covid_19_daily_reports/03-01-2020.csv [Content-Type=text/csv]...\n",
      "Copying file://COVID-19/csse_covid_19_data/csse_covid_19_daily_reports/03-02-2020.csv [Content-Type=text/csv]...\n",
      "Copying file://COVID-19/csse_covid_19_data/csse_covid_19_daily_reports/03-03-2020.csv [Content-Type=text/csv]...\n",
      "Copying file://COVID-19/csse_covid_19_data/csse_covid_19_daily_reports/03-04-2020.csv [Content-Type=text/csv]...\n",
      "/ [4 files][ 34.7 KiB/ 34.7 KiB]                                                \n",
      "==> NOTE: You are performing a sequence of gsutil operations that may\n",
      "run significantly faster if you instead use gsutil -m cp ... Please\n",
      "see the -m section under \"gsutil help options\" for further information\n",
      "about when gsutil -m can be advantageous.\n",
      "\n",
      "Copying file://COVID-19/csse_covid_19_data/csse_covid_19_daily_reports/03-05-2020.csv [Content-Type=text/csv]...\n",
      "Copying file://COVID-19/csse_covid_19_data/csse_covid_19_daily_reports/03-06-2020.csv [Content-Type=text/csv]...\n",
      "Copying file://COVID-19/csse_covid_19_data/csse_covid_19_daily_reports/03-07-2020.csv [Content-Type=text/csv]...\n",
      "Copying file://COVID-19/csse_covid_19_data/csse_covid_19_daily_reports/03-08-2020.csv [Content-Type=text/csv]...\n",
      "Copying file://COVID-19/csse_covid_19_data/csse_covid_19_daily_reports/03-09-2020.csv [Content-Type=text/csv]...\n",
      "- [9 files][102.9 KiB/102.9 KiB]                                                \n",
      "Operation completed over 9 objects/102.9 KiB.                                    \n"
     ]
    }
   ],
   "source": [
    "!gsutil cp COVID-19/csse_covid_19_data/csse_covid_19_daily_reports/03-0*.csv gs://{bucket_name}/01-22-to-03-21"
   ]
  },
  {
   "cell_type": "code",
   "execution_count": 6,
   "metadata": {},
   "outputs": [
    {
     "name": "stdout",
     "output_type": "stream",
     "text": [
      "Copying file://COVID-19/csse_covid_19_data/csse_covid_19_daily_reports/03-10-2020.csv [Content-Type=text/csv]...\n",
      "Copying file://COVID-19/csse_covid_19_data/csse_covid_19_daily_reports/03-11-2020.csv [Content-Type=text/csv]...\n",
      "Copying file://COVID-19/csse_covid_19_data/csse_covid_19_daily_reports/03-12-2020.csv [Content-Type=text/csv]...\n",
      "Copying file://COVID-19/csse_covid_19_data/csse_covid_19_daily_reports/03-13-2020.csv [Content-Type=text/csv]...\n",
      "/ [4 files][ 49.2 KiB/ 49.2 KiB]                                                \n",
      "==> NOTE: You are performing a sequence of gsutil operations that may\n",
      "run significantly faster if you instead use gsutil -m cp ... Please\n",
      "see the -m section under \"gsutil help options\" for further information\n",
      "about when gsutil -m can be advantageous.\n",
      "\n",
      "Copying file://COVID-19/csse_covid_19_data/csse_covid_19_daily_reports/03-14-2020.csv [Content-Type=text/csv]...\n",
      "Copying file://COVID-19/csse_covid_19_data/csse_covid_19_daily_reports/03-15-2020.csv [Content-Type=text/csv]...\n",
      "Copying file://COVID-19/csse_covid_19_data/csse_covid_19_daily_reports/03-16-2020.csv [Content-Type=text/csv]...\n",
      "Copying file://COVID-19/csse_covid_19_data/csse_covid_19_daily_reports/03-17-2020.csv [Content-Type=text/csv]...\n",
      "Copying file://COVID-19/csse_covid_19_data/csse_covid_19_daily_reports/03-18-2020.csv [Content-Type=text/csv]...\n",
      "Copying file://COVID-19/csse_covid_19_data/csse_covid_19_daily_reports/03-19-2020.csv [Content-Type=text/csv]...\n",
      "- [10 files][141.0 KiB/141.0 KiB]                                               \n",
      "Operation completed over 10 objects/141.0 KiB.                                   \n"
     ]
    }
   ],
   "source": [
    "!gsutil cp COVID-19/csse_covid_19_data/csse_covid_19_daily_reports/03-1*.csv gs://{bucket_name}/01-22-to-03-21"
   ]
  },
  {
   "cell_type": "code",
   "execution_count": 7,
   "metadata": {},
   "outputs": [
    {
     "name": "stdout",
     "output_type": "stream",
     "text": [
      "Copying file://COVID-19/csse_covid_19_data/csse_covid_19_daily_reports/03-20-2020.csv [Content-Type=text/csv]...\n",
      "/ [1 files][ 16.9 KiB/ 16.9 KiB]                                                \n",
      "Operation completed over 1 objects/16.9 KiB.                                     \n"
     ]
    }
   ],
   "source": [
    "!gsutil cp COVID-19/csse_covid_19_data/csse_covid_19_daily_reports/03-20-2020.csv gs://{bucket_name}/01-22-to-03-21"
   ]
  },
  {
   "cell_type": "code",
   "execution_count": 8,
   "metadata": {},
   "outputs": [
    {
     "name": "stdout",
     "output_type": "stream",
     "text": [
      "Copying file://COVID-19/csse_covid_19_data/csse_covid_19_daily_reports/03-21-2020.csv [Content-Type=text/csv]...\n",
      "/ [1 files][ 17.4 KiB/ 17.4 KiB]                                                \n",
      "Operation completed over 1 objects/17.4 KiB.                                     \n"
     ]
    }
   ],
   "source": [
    "!gsutil cp COVID-19/csse_covid_19_data/csse_covid_19_daily_reports/03-21-2020.csv gs://{bucket_name}/01-22-to-03-21"
   ]
  },
  {
   "cell_type": "markdown",
   "metadata": {},
   "source": [
    "**SPRING DATA:**"
   ]
  },
  {
   "cell_type": "code",
   "execution_count": 9,
   "metadata": {},
   "outputs": [
    {
     "name": "stdout",
     "output_type": "stream",
     "text": [
      "Copying file://COVID-19/csse_covid_19_data/csse_covid_19_daily_reports/03-22-2020.csv [Content-Type=text/csv]...\n",
      "/ [1 files][320.4 KiB/320.4 KiB]                                                \n",
      "Operation completed over 1 objects/320.4 KiB.                                    \n"
     ]
    }
   ],
   "source": [
    "!gsutil cp COVID-19/csse_covid_19_data/csse_covid_19_daily_reports/03-22-2020.csv gs://{bucket_name}/03-22-to-now"
   ]
  },
  {
   "cell_type": "code",
   "execution_count": 10,
   "metadata": {},
   "outputs": [
    {
     "name": "stdout",
     "output_type": "stream",
     "text": [
      "Copying file://COVID-19/csse_covid_19_data/csse_covid_19_daily_reports/03-23-2020.csv [Content-Type=text/csv]...\n",
      "/ [1 files][340.7 KiB/340.7 KiB]                                                \n",
      "Operation completed over 1 objects/340.7 KiB.                                    \n"
     ]
    }
   ],
   "source": [
    "!gsutil cp COVID-19/csse_covid_19_data/csse_covid_19_daily_reports/03-23-2020.csv gs://{bucket_name}/03-22-to-now"
   ]
  },
  {
   "cell_type": "code",
   "execution_count": 11,
   "metadata": {},
   "outputs": [
    {
     "name": "stdout",
     "output_type": "stream",
     "text": [
      "Copying file://COVID-19/csse_covid_19_data/csse_covid_19_daily_reports/03-24-2020.csv [Content-Type=text/csv]...\n",
      "/ [1 files][340.9 KiB/340.9 KiB]                                                \n",
      "Operation completed over 1 objects/340.9 KiB.                                    \n"
     ]
    }
   ],
   "source": [
    "!gsutil cp COVID-19/csse_covid_19_data/csse_covid_19_daily_reports/03-24-2020.csv gs://{bucket_name}/03-22-to-now"
   ]
  },
  {
   "cell_type": "code",
   "execution_count": 12,
   "metadata": {},
   "outputs": [
    {
     "name": "stdout",
     "output_type": "stream",
     "text": [
      "Copying file://COVID-19/csse_covid_19_data/csse_covid_19_daily_reports/03-25-2020.csv [Content-Type=text/csv]...\n",
      "/ [1 files][341.3 KiB/341.3 KiB]                                                \n",
      "Operation completed over 1 objects/341.3 KiB.                                    \n"
     ]
    }
   ],
   "source": [
    "!gsutil cp COVID-19/csse_covid_19_data/csse_covid_19_daily_reports/03-25-2020.csv gs://{bucket_name}/03-22-to-now"
   ]
  },
  {
   "cell_type": "code",
   "execution_count": 13,
   "metadata": {},
   "outputs": [
    {
     "name": "stdout",
     "output_type": "stream",
     "text": [
      "Copying file://COVID-19/csse_covid_19_data/csse_covid_19_daily_reports/03-26-2020.csv [Content-Type=text/csv]...\n",
      "/ [1 files][341.5 KiB/341.5 KiB]                                                \n",
      "Operation completed over 1 objects/341.5 KiB.                                    \n"
     ]
    }
   ],
   "source": [
    "!gsutil cp COVID-19/csse_covid_19_data/csse_covid_19_daily_reports/03-26-2020.csv gs://{bucket_name}/03-22-to-now"
   ]
  },
  {
   "cell_type": "code",
   "execution_count": 14,
   "metadata": {},
   "outputs": [
    {
     "name": "stdout",
     "output_type": "stream",
     "text": [
      "Copying file://COVID-19/csse_covid_19_data/csse_covid_19_daily_reports/03-27-2020.csv [Content-Type=text/csv]...\n",
      "/ [1 files][342.3 KiB/342.3 KiB]                                                \n",
      "Operation completed over 1 objects/342.3 KiB.                                    \n"
     ]
    }
   ],
   "source": [
    "!gsutil cp COVID-19/csse_covid_19_data/csse_covid_19_daily_reports/03-27-2020.csv gs://{bucket_name}/03-22-to-now"
   ]
  },
  {
   "cell_type": "code",
   "execution_count": 15,
   "metadata": {},
   "outputs": [
    {
     "name": "stdout",
     "output_type": "stream",
     "text": [
      "Copying file://COVID-19/csse_covid_19_data/csse_covid_19_daily_reports/03-28-2020.csv [Content-Type=text/csv]...\n",
      "/ [1 files][321.8 KiB/321.8 KiB]                                                \n",
      "Operation completed over 1 objects/321.8 KiB.                                    \n"
     ]
    }
   ],
   "source": [
    "!gsutil cp COVID-19/csse_covid_19_data/csse_covid_19_daily_reports/03-28-2020.csv gs://{bucket_name}/03-22-to-now"
   ]
  },
  {
   "cell_type": "code",
   "execution_count": 16,
   "metadata": {},
   "outputs": [
    {
     "name": "stdout",
     "output_type": "stream",
     "text": [
      "Copying file://COVID-19/csse_covid_19_data/csse_covid_19_daily_reports/03-29-2020.csv [Content-Type=text/csv]...\n",
      "/ [1 files][322.2 KiB/322.2 KiB]                                                \n",
      "Operation completed over 1 objects/322.2 KiB.                                    \n"
     ]
    }
   ],
   "source": [
    "!gsutil cp COVID-19/csse_covid_19_data/csse_covid_19_daily_reports/03-29-2020.csv gs://{bucket_name}/03-22-to-now"
   ]
  },
  {
   "cell_type": "code",
   "execution_count": 17,
   "metadata": {},
   "outputs": [
    {
     "name": "stdout",
     "output_type": "stream",
     "text": [
      "Copying file://COVID-19/csse_covid_19_data/csse_covid_19_daily_reports/03-30-2020.csv [Content-Type=text/csv]...\n",
      "Copying file://COVID-19/csse_covid_19_data/csse_covid_19_daily_reports/03-31-2020.csv [Content-Type=text/csv]...\n",
      "/ [2 files][565.1 KiB/565.1 KiB]                                                \n",
      "Operation completed over 2 objects/565.1 KiB.                                    \n"
     ]
    }
   ],
   "source": [
    "!gsutil cp COVID-19/csse_covid_19_data/csse_covid_19_daily_reports/03-3*.csv gs://{bucket_name}/03-22-to-now"
   ]
  },
  {
   "cell_type": "code",
   "execution_count": 18,
   "metadata": {},
   "outputs": [
    {
     "name": "stdout",
     "output_type": "stream",
     "text": [
      "Copying file://COVID-19/csse_covid_19_data/csse_covid_19_daily_reports/04-01-2020.csv [Content-Type=text/csv]...\n",
      "Copying file://COVID-19/csse_covid_19_data/csse_covid_19_daily_reports/04-02-2020.csv [Content-Type=text/csv]...\n",
      "Copying file://COVID-19/csse_covid_19_data/csse_covid_19_daily_reports/04-03-2020.csv [Content-Type=text/csv]...\n",
      "Copying file://COVID-19/csse_covid_19_data/csse_covid_19_daily_reports/04-04-2020.csv [Content-Type=text/csv]...\n",
      "- [4 files][996.2 KiB/996.2 KiB]                                                \n",
      "==> NOTE: You are performing a sequence of gsutil operations that may\n",
      "run significantly faster if you instead use gsutil -m cp ... Please\n",
      "see the -m section under \"gsutil help options\" for further information\n",
      "about when gsutil -m can be advantageous.\n",
      "\n",
      "Copying file://COVID-19/csse_covid_19_data/csse_covid_19_daily_reports/04-05-2020.csv [Content-Type=text/csv]...\n",
      "Copying file://COVID-19/csse_covid_19_data/csse_covid_19_daily_reports/04-06-2020.csv [Content-Type=text/csv]...\n",
      "Copying file://COVID-19/csse_covid_19_data/csse_covid_19_daily_reports/04-07-2020.csv [Content-Type=text/csv]...\n",
      "Copying file://COVID-19/csse_covid_19_data/csse_covid_19_daily_reports/04-08-2020.csv [Content-Type=text/csv]...\n",
      "Copying file://COVID-19/csse_covid_19_data/csse_covid_19_daily_reports/04-09-2020.csv [Content-Type=text/csv]...\n",
      "Copying file://COVID-19/csse_covid_19_data/csse_covid_19_daily_reports/04-10-2020.csv [Content-Type=text/csv]...\n",
      "Copying file://COVID-19/csse_covid_19_data/csse_covid_19_daily_reports/04-11-2020.csv [Content-Type=text/csv]...\n",
      "Copying file://COVID-19/csse_covid_19_data/csse_covid_19_daily_reports/04-12-2020.csv [Content-Type=text/csv]...\n",
      "Copying file://COVID-19/csse_covid_19_data/csse_covid_19_daily_reports/04-13-2020.csv [Content-Type=text/csv]...\n",
      "Copying file://COVID-19/csse_covid_19_data/csse_covid_19_daily_reports/04-14-2020.csv [Content-Type=text/csv]...\n",
      "Copying file://COVID-19/csse_covid_19_data/csse_covid_19_daily_reports/04-15-2020.csv [Content-Type=text/csv]...\n",
      "Copying file://COVID-19/csse_covid_19_data/csse_covid_19_daily_reports/04-16-2020.csv [Content-Type=text/csv]...\n",
      "Copying file://COVID-19/csse_covid_19_data/csse_covid_19_daily_reports/04-17-2020.csv [Content-Type=text/csv]...\n",
      "Copying file://COVID-19/csse_covid_19_data/csse_covid_19_daily_reports/04-18-2020.csv [Content-Type=text/csv]...\n",
      "Copying file://COVID-19/csse_covid_19_data/csse_covid_19_daily_reports/04-19-2020.csv [Content-Type=text/csv]...\n",
      "Copying file://COVID-19/csse_covid_19_data/csse_covid_19_daily_reports/04-20-2020.csv [Content-Type=text/csv]...\n",
      "Copying file://COVID-19/csse_covid_19_data/csse_covid_19_daily_reports/04-21-2020.csv [Content-Type=text/csv]...\n",
      "Copying file://COVID-19/csse_covid_19_data/csse_covid_19_daily_reports/04-22-2020.csv [Content-Type=text/csv]...\n",
      "Copying file://COVID-19/csse_covid_19_data/csse_covid_19_daily_reports/04-23-2020.csv [Content-Type=text/csv]...\n",
      "Copying file://COVID-19/csse_covid_19_data/csse_covid_19_daily_reports/04-24-2020.csv [Content-Type=text/csv]...\n",
      "Copying file://COVID-19/csse_covid_19_data/csse_covid_19_daily_reports/04-25-2020.csv [Content-Type=text/csv]...\n",
      "Copying file://COVID-19/csse_covid_19_data/csse_covid_19_daily_reports/04-26-2020.csv [Content-Type=text/csv]...\n",
      "Copying file://COVID-19/csse_covid_19_data/csse_covid_19_daily_reports/04-27-2020.csv [Content-Type=text/csv]...\n",
      "Copying file://COVID-19/csse_covid_19_data/csse_covid_19_daily_reports/04-28-2020.csv [Content-Type=text/csv]...\n",
      "Copying file://COVID-19/csse_covid_19_data/csse_covid_19_daily_reports/04-29-2020.csv [Content-Type=text/csv]...\n",
      "Copying file://COVID-19/csse_covid_19_data/csse_covid_19_daily_reports/04-30-2020.csv [Content-Type=text/csv]...\n",
      "\\ [30 files][  8.7 MiB/  8.7 MiB]                                               \n",
      "==> NOTE: You are performing a sequence of gsutil operations that may\n",
      "run significantly faster if you instead use gsutil -m cp ... Please\n",
      "see the -m section under \"gsutil help options\" for further information\n",
      "about when gsutil -m can be advantageous.\n",
      "\n",
      "\n",
      "Operation completed over 30 objects/8.7 MiB.                                     \n"
     ]
    }
   ],
   "source": [
    "!gsutil cp COVID-19/csse_covid_19_data/csse_covid_19_daily_reports/04-*.csv gs://{bucket_name}/03-22-to-now"
   ]
  },
  {
   "cell_type": "markdown",
   "metadata": {},
   "source": [
    "### Step 2: Load the files from the bucket into BigQuery.\n",
    "Here, we create a new dataset and populate it with two new tables, one for the Winter data and one for the Spring data."
   ]
  },
  {
   "cell_type": "code",
   "execution_count": 97,
   "metadata": {},
   "outputs": [],
   "source": [
    "dataset_id = \"covid_19_staging\""
   ]
  },
  {
   "cell_type": "code",
   "execution_count": 98,
   "metadata": {},
   "outputs": [
    {
     "name": "stdout",
     "output_type": "stream",
     "text": [
      "Dataset 'arcane-footing-266618:covid_19_staging' successfully created.\n"
     ]
    }
   ],
   "source": [
    "!bq --location=US mk --dataset {dataset_id}"
   ]
  },
  {
   "cell_type": "code",
   "execution_count": 100,
   "metadata": {},
   "outputs": [
    {
     "name": "stdout",
     "output_type": "stream",
     "text": [
      "Waiting on bqjob_r19e797be819a1351_0000017290ac5005_1 ... (1s) Current status: DONE   \n"
     ]
    }
   ],
   "source": [
    "!bq --location=US load --skip_leading_rows=1 --allow_jagged_rows=true --source_format=CSV {dataset_id}.Winter_Cases \\\n",
    "gs://covid-19-johnshopkins/01-22-to-03-21/*.csv \\\n",
    "state:STRING,country:STRING,last_update:STRING,confirmed:INTEGER,deaths:INTEGER,recovered:INTEGER,latitude:FLOAT,longitude:FLOAT"
   ]
  },
  {
   "cell_type": "code",
   "execution_count": 99,
   "metadata": {},
   "outputs": [
    {
     "name": "stdout",
     "output_type": "stream",
     "text": [
      "Waiting on bqjob_r45353a3a35033fd4_0000017290ac099d_1 ... (5s) Current status: DONE   \n"
     ]
    }
   ],
   "source": [
    "!bq --location=US load --skip_leading_rows=1 --allow_jagged_rows=true --source_format=CSV {dataset_id}.Spring_Cases \\\n",
    "gs://covid-19-johnshopkins/03-22-to-now/*.csv \\\n",
    "fips:INTEGER,admin2:String,state:STRING,country:STRING,last_update:STRING,latitude:FLOAT,longitude:FLOAT,confirmed:INTEGER,deaths:INTEGER,recovered:INTEGER,active:INTEGER,combined_key:STRING"
   ]
  },
  {
   "cell_type": "markdown",
   "metadata": {},
   "source": [
    "### Step 3: Validate that the files were loaded correctly.\n",
    "We want to make sure our data was brought into BigQuery correctly by inspecting some records."
   ]
  },
  {
   "cell_type": "markdown",
   "metadata": {},
   "source": [
    "**Count the number of records**"
   ]
  },
  {
   "cell_type": "code",
   "execution_count": 108,
   "metadata": {},
   "outputs": [
    {
     "data": {
      "text/html": [
       "<div>\n",
       "<style scoped>\n",
       "    .dataframe tbody tr th:only-of-type {\n",
       "        vertical-align: middle;\n",
       "    }\n",
       "\n",
       "    .dataframe tbody tr th {\n",
       "        vertical-align: top;\n",
       "    }\n",
       "\n",
       "    .dataframe thead th {\n",
       "        text-align: right;\n",
       "    }\n",
       "</style>\n",
       "<table border=\"1\" class=\"dataframe\">\n",
       "  <thead>\n",
       "    <tr style=\"text-align: right;\">\n",
       "      <th></th>\n",
       "      <th>winter_cases</th>\n",
       "    </tr>\n",
       "  </thead>\n",
       "  <tbody>\n",
       "    <tr>\n",
       "      <th>0</th>\n",
       "      <td>7617</td>\n",
       "    </tr>\n",
       "  </tbody>\n",
       "</table>\n",
       "</div>"
      ],
      "text/plain": [
       "   winter_cases\n",
       "0          7617"
      ]
     },
     "execution_count": 108,
     "metadata": {},
     "output_type": "execute_result"
    }
   ],
   "source": [
    "%%bigquery\n",
    "select count(*) as winter_cases from covid_19_staging.Winter_Cases"
   ]
  },
  {
   "cell_type": "code",
   "execution_count": 109,
   "metadata": {},
   "outputs": [
    {
     "data": {
      "text/html": [
       "<div>\n",
       "<style scoped>\n",
       "    .dataframe tbody tr th:only-of-type {\n",
       "        vertical-align: middle;\n",
       "    }\n",
       "\n",
       "    .dataframe tbody tr th {\n",
       "        vertical-align: top;\n",
       "    }\n",
       "\n",
       "    .dataframe thead th {\n",
       "        text-align: right;\n",
       "    }\n",
       "</style>\n",
       "<table border=\"1\" class=\"dataframe\">\n",
       "  <thead>\n",
       "    <tr style=\"text-align: right;\">\n",
       "      <th></th>\n",
       "      <th>spring_cases</th>\n",
       "    </tr>\n",
       "  </thead>\n",
       "  <tbody>\n",
       "    <tr>\n",
       "      <th>0</th>\n",
       "      <td>95046</td>\n",
       "    </tr>\n",
       "  </tbody>\n",
       "</table>\n",
       "</div>"
      ],
      "text/plain": [
       "   spring_cases\n",
       "0         95046"
      ]
     },
     "execution_count": 109,
     "metadata": {},
     "output_type": "execute_result"
    }
   ],
   "source": [
    "%%bigquery\n",
    "select count(*) as spring_cases from covid_19_staging.Spring_Cases"
   ]
  },
  {
   "cell_type": "markdown",
   "metadata": {},
   "source": [
    "**Below, we can see that the timestamp isn't consistently represented**"
   ]
  },
  {
   "cell_type": "code",
   "execution_count": 110,
   "metadata": {},
   "outputs": [
    {
     "data": {
      "text/html": [
       "<div>\n",
       "<style scoped>\n",
       "    .dataframe tbody tr th:only-of-type {\n",
       "        vertical-align: middle;\n",
       "    }\n",
       "\n",
       "    .dataframe tbody tr th {\n",
       "        vertical-align: top;\n",
       "    }\n",
       "\n",
       "    .dataframe thead th {\n",
       "        text-align: right;\n",
       "    }\n",
       "</style>\n",
       "<table border=\"1\" class=\"dataframe\">\n",
       "  <thead>\n",
       "    <tr style=\"text-align: right;\">\n",
       "      <th></th>\n",
       "      <th>oldest_timestamp</th>\n",
       "      <th>newest_timestamp</th>\n",
       "    </tr>\n",
       "  </thead>\n",
       "  <tbody>\n",
       "    <tr>\n",
       "      <th>0</th>\n",
       "      <td>1/22/2020 17:00</td>\n",
       "      <td>2020-03-21T23:43:02</td>\n",
       "    </tr>\n",
       "  </tbody>\n",
       "</table>\n",
       "</div>"
      ],
      "text/plain": [
       "  oldest_timestamp     newest_timestamp\n",
       "0  1/22/2020 17:00  2020-03-21T23:43:02"
      ]
     },
     "execution_count": 110,
     "metadata": {},
     "output_type": "execute_result"
    }
   ],
   "source": [
    "%%bigquery\n",
    "select min(last_update) as oldest_timestamp, max(last_update) as newest_timestamp\n",
    "from covid_19_staging.Winter_Cases"
   ]
  },
  {
   "cell_type": "code",
   "execution_count": 111,
   "metadata": {},
   "outputs": [
    {
     "data": {
      "text/html": [
       "<div>\n",
       "<style scoped>\n",
       "    .dataframe tbody tr th:only-of-type {\n",
       "        vertical-align: middle;\n",
       "    }\n",
       "\n",
       "    .dataframe tbody tr th {\n",
       "        vertical-align: top;\n",
       "    }\n",
       "\n",
       "    .dataframe thead th {\n",
       "        text-align: right;\n",
       "    }\n",
       "</style>\n",
       "<table border=\"1\" class=\"dataframe\">\n",
       "  <thead>\n",
       "    <tr style=\"text-align: right;\">\n",
       "      <th></th>\n",
       "      <th>oldest_timestamp</th>\n",
       "      <th>newest_timestamp</th>\n",
       "    </tr>\n",
       "  </thead>\n",
       "  <tbody>\n",
       "    <tr>\n",
       "      <th>0</th>\n",
       "      <td>2/23/20 11:19</td>\n",
       "      <td>4/6/20 9:37</td>\n",
       "    </tr>\n",
       "  </tbody>\n",
       "</table>\n",
       "</div>"
      ],
      "text/plain": [
       "  oldest_timestamp newest_timestamp\n",
       "0    2/23/20 11:19      4/6/20 9:37"
      ]
     },
     "execution_count": 111,
     "metadata": {},
     "output_type": "execute_result"
    }
   ],
   "source": [
    "%%bigquery\n",
    "select min(last_update) as oldest_timestamp, max(last_update) as newest_timestamp\n",
    "from covid_19_staging.Spring_Cases"
   ]
  },
  {
   "cell_type": "markdown",
   "metadata": {},
   "source": [
    "**Also, some records appear to have the same timestamp!**"
   ]
  },
  {
   "cell_type": "code",
   "execution_count": 112,
   "metadata": {},
   "outputs": [
    {
     "data": {
      "text/html": [
       "<div>\n",
       "<style scoped>\n",
       "    .dataframe tbody tr th:only-of-type {\n",
       "        vertical-align: middle;\n",
       "    }\n",
       "\n",
       "    .dataframe tbody tr th {\n",
       "        vertical-align: top;\n",
       "    }\n",
       "\n",
       "    .dataframe thead th {\n",
       "        text-align: right;\n",
       "    }\n",
       "</style>\n",
       "<table border=\"1\" class=\"dataframe\">\n",
       "  <thead>\n",
       "    <tr style=\"text-align: right;\">\n",
       "      <th></th>\n",
       "      <th>timestamp</th>\n",
       "      <th>number_of_records</th>\n",
       "    </tr>\n",
       "  </thead>\n",
       "  <tbody>\n",
       "    <tr>\n",
       "      <th>0</th>\n",
       "      <td>1/22/2020 17:00</td>\n",
       "      <td>38</td>\n",
       "    </tr>\n",
       "    <tr>\n",
       "      <th>1</th>\n",
       "      <td>1/23/20 17:00</td>\n",
       "      <td>46</td>\n",
       "    </tr>\n",
       "    <tr>\n",
       "      <th>2</th>\n",
       "      <td>1/24/20 17:00</td>\n",
       "      <td>41</td>\n",
       "    </tr>\n",
       "    <tr>\n",
       "      <th>3</th>\n",
       "      <td>1/25/20 17:00</td>\n",
       "      <td>44</td>\n",
       "    </tr>\n",
       "    <tr>\n",
       "      <th>4</th>\n",
       "      <td>1/26/20 16:00</td>\n",
       "      <td>47</td>\n",
       "    </tr>\n",
       "    <tr>\n",
       "      <th>5</th>\n",
       "      <td>1/27/20 23:59</td>\n",
       "      <td>51</td>\n",
       "    </tr>\n",
       "    <tr>\n",
       "      <th>6</th>\n",
       "      <td>1/28/20 23:00</td>\n",
       "      <td>52</td>\n",
       "    </tr>\n",
       "    <tr>\n",
       "      <th>7</th>\n",
       "      <td>1/29/20 19:30</td>\n",
       "      <td>54</td>\n",
       "    </tr>\n",
       "    <tr>\n",
       "      <th>8</th>\n",
       "      <td>1/30/20 16:00</td>\n",
       "      <td>58</td>\n",
       "    </tr>\n",
       "    <tr>\n",
       "      <th>9</th>\n",
       "      <td>1/31/2020 10:37</td>\n",
       "      <td>1</td>\n",
       "    </tr>\n",
       "  </tbody>\n",
       "</table>\n",
       "</div>"
      ],
      "text/plain": [
       "         timestamp  number_of_records\n",
       "0  1/22/2020 17:00                 38\n",
       "1    1/23/20 17:00                 46\n",
       "2    1/24/20 17:00                 41\n",
       "3    1/25/20 17:00                 44\n",
       "4    1/26/20 16:00                 47\n",
       "5    1/27/20 23:59                 51\n",
       "6    1/28/20 23:00                 52\n",
       "7    1/29/20 19:30                 54\n",
       "8    1/30/20 16:00                 58\n",
       "9  1/31/2020 10:37                  1"
      ]
     },
     "execution_count": 112,
     "metadata": {},
     "output_type": "execute_result"
    }
   ],
   "source": [
    "%%bigquery\n",
    "select last_update as timestamp, count(*) as number_of_records\n",
    "from covid_19_staging.Winter_Cases\n",
    "group by last_update\n",
    "order by last_update \n",
    "limit 10"
   ]
  },
  {
   "cell_type": "code",
   "execution_count": 113,
   "metadata": {},
   "outputs": [
    {
     "data": {
      "text/html": [
       "<div>\n",
       "<style scoped>\n",
       "    .dataframe tbody tr th:only-of-type {\n",
       "        vertical-align: middle;\n",
       "    }\n",
       "\n",
       "    .dataframe tbody tr th {\n",
       "        vertical-align: top;\n",
       "    }\n",
       "\n",
       "    .dataframe thead th {\n",
       "        text-align: right;\n",
       "    }\n",
       "</style>\n",
       "<table border=\"1\" class=\"dataframe\">\n",
       "  <thead>\n",
       "    <tr style=\"text-align: right;\">\n",
       "      <th></th>\n",
       "      <th>timestamp</th>\n",
       "      <th>number_of_records</th>\n",
       "    </tr>\n",
       "  </thead>\n",
       "  <tbody>\n",
       "    <tr>\n",
       "      <th>0</th>\n",
       "      <td>2/23/20 11:19</td>\n",
       "      <td>8</td>\n",
       "    </tr>\n",
       "    <tr>\n",
       "      <th>1</th>\n",
       "      <td>2020-02-23 11:19:00</td>\n",
       "      <td>2</td>\n",
       "    </tr>\n",
       "    <tr>\n",
       "      <th>2</th>\n",
       "      <td>2020-02-23 11:19:02</td>\n",
       "      <td>48</td>\n",
       "    </tr>\n",
       "    <tr>\n",
       "      <th>3</th>\n",
       "      <td>2020-03-08 05:19:01</td>\n",
       "      <td>6</td>\n",
       "    </tr>\n",
       "    <tr>\n",
       "      <th>4</th>\n",
       "      <td>2020-03-08 05:31:00</td>\n",
       "      <td>1</td>\n",
       "    </tr>\n",
       "    <tr>\n",
       "      <th>5</th>\n",
       "      <td>2020-03-08 05:31:02</td>\n",
       "      <td>24</td>\n",
       "    </tr>\n",
       "    <tr>\n",
       "      <th>6</th>\n",
       "      <td>2020-03-14 08:25:05</td>\n",
       "      <td>2</td>\n",
       "    </tr>\n",
       "    <tr>\n",
       "      <th>7</th>\n",
       "      <td>2020-03-16 08:47:00</td>\n",
       "      <td>1</td>\n",
       "    </tr>\n",
       "    <tr>\n",
       "      <th>8</th>\n",
       "      <td>2020-03-16 08:47:05</td>\n",
       "      <td>24</td>\n",
       "    </tr>\n",
       "    <tr>\n",
       "      <th>9</th>\n",
       "      <td>2020-03-18 01:37:00</td>\n",
       "      <td>1</td>\n",
       "    </tr>\n",
       "  </tbody>\n",
       "</table>\n",
       "</div>"
      ],
      "text/plain": [
       "             timestamp  number_of_records\n",
       "0        2/23/20 11:19                  8\n",
       "1  2020-02-23 11:19:00                  2\n",
       "2  2020-02-23 11:19:02                 48\n",
       "3  2020-03-08 05:19:01                  6\n",
       "4  2020-03-08 05:31:00                  1\n",
       "5  2020-03-08 05:31:02                 24\n",
       "6  2020-03-14 08:25:05                  2\n",
       "7  2020-03-16 08:47:00                  1\n",
       "8  2020-03-16 08:47:05                 24\n",
       "9  2020-03-18 01:37:00                  1"
      ]
     },
     "execution_count": 113,
     "metadata": {},
     "output_type": "execute_result"
    }
   ],
   "source": [
    "%%bigquery\n",
    "select last_update as timestamp, count(*) as number_of_records\n",
    "from covid_19_staging.Spring_Cases\n",
    "group by last_update\n",
    "order by last_update \n",
    "limit 10"
   ]
  },
  {
   "cell_type": "markdown",
   "metadata": {},
   "source": [
    "**Inspect how the two table schemas vary**"
   ]
  },
  {
   "cell_type": "code",
   "execution_count": 114,
   "metadata": {},
   "outputs": [
    {
     "name": "stdout",
     "output_type": "stream",
     "text": [
      "Table arcane-footing-266618:covid_19_staging.Winter_Cases\n",
      "\n",
      "   Last modified            Schema           Total Rows   Total Bytes   Expiration   Time Partitioning   Clustered Fields   Labels  \n",
      " ----------------- ------------------------ ------------ ------------- ------------ ------------------- ------------------ -------- \n",
      "  07 Jun 21:25:13   |- state: string         7617         538819                                                                    \n",
      "                    |- country: string                                                                                              \n",
      "                    |- last_update: string                                                                                          \n",
      "                    |- confirmed: integer                                                                                           \n",
      "                    |- deaths: integer                                                                                              \n",
      "                    |- recovered: integer                                                                                           \n",
      "                    |- latitude: float                                                                                              \n",
      "                    |- longitude: float                                                                                             \n",
      "\n"
     ]
    }
   ],
   "source": [
    "!bq show arcane-footing-266618:covid_19_staging.Winter_Cases"
   ]
  },
  {
   "cell_type": "code",
   "execution_count": 115,
   "metadata": {},
   "outputs": [
    {
     "name": "stdout",
     "output_type": "stream",
     "text": [
      "Table arcane-footing-266618:covid_19_staging.Spring_Cases\n",
      "\n",
      "   Last modified            Schema            Total Rows   Total Bytes   Expiration   Time Partitioning   Clustered Fields   Labels  \n",
      " ----------------- ------------------------- ------------ ------------- ------------ ------------------- ------------------ -------- \n",
      "  07 Jun 21:25:00   |- fips: integer          95046        11420180                                                                  \n",
      "                    |- admin2: string                                                                                                \n",
      "                    |- state: string                                                                                                 \n",
      "                    |- country: string                                                                                               \n",
      "                    |- last_update: string                                                                                           \n",
      "                    |- latitude: float                                                                                               \n",
      "                    |- longitude: float                                                                                              \n",
      "                    |- confirmed: integer                                                                                            \n",
      "                    |- deaths: integer                                                                                               \n",
      "                    |- recovered: integer                                                                                            \n",
      "                    |- active: integer                                                                                               \n",
      "                    |- combined_key: string                                                                                          \n",
      "\n"
     ]
    }
   ],
   "source": [
    "!bq show arcane-footing-266618:covid_19_staging.Spring_Cases"
   ]
  },
  {
   "cell_type": "markdown",
   "metadata": {},
   "source": [
    "### Step 4: Merge the two tables\n",
    "There was a change in the table schemas from Spring to Winter. Let's merge the two tables and set nulls for the missing values."
   ]
  },
  {
   "cell_type": "code",
   "execution_count": 107,
   "metadata": {},
   "outputs": [
    {
     "data": {
      "text/html": [
       "<div>\n",
       "<style scoped>\n",
       "    .dataframe tbody tr th:only-of-type {\n",
       "        vertical-align: middle;\n",
       "    }\n",
       "\n",
       "    .dataframe tbody tr th {\n",
       "        vertical-align: top;\n",
       "    }\n",
       "\n",
       "    .dataframe thead th {\n",
       "        text-align: right;\n",
       "    }\n",
       "</style>\n",
       "<table border=\"1\" class=\"dataframe\">\n",
       "  <thead>\n",
       "    <tr style=\"text-align: right;\">\n",
       "      <th></th>\n",
       "    </tr>\n",
       "  </thead>\n",
       "  <tbody>\n",
       "  </tbody>\n",
       "</table>\n",
       "</div>"
      ],
      "text/plain": [
       "Empty DataFrame\n",
       "Columns: []\n",
       "Index: []"
      ]
     },
     "execution_count": 107,
     "metadata": {},
     "output_type": "execute_result"
    }
   ],
   "source": [
    "%%bigquery\n",
    "create or replace table covid_19_staging.Cases\n",
    "(fips INT64,\n",
    "admin2 String,\n",
    "state STRING,\n",
    "country STRING,\n",
    "last_update STRING,\n",
    "latitude FLOAT64,\n",
    "longitude FLOAT64,\n",
    "confirmed INT64,\n",
    "deaths INT64,\n",
    "recovered INT64,\n",
    "active INT64,\n",
    "combined_key STRING) as\n",
    "SELECT *\n",
    "FROM covid_19_staging.Spring_Cases\n",
    "UNION ALL\n",
    "SELECT null as fips, null as admin2, state, country, last_update, latitude, longitude, confirmed, deaths, recovered, null as active, CAST(null as STRING) as combined_key,\n",
    "FROM covid_19_staging.Winter_Cases"
   ]
  },
  {
   "cell_type": "code",
   "execution_count": null,
   "metadata": {},
   "outputs": [],
   "source": []
  },
  {
   "cell_type": "code",
   "execution_count": null,
   "metadata": {},
   "outputs": [],
   "source": []
  }
 ],
 "metadata": {
  "kernelspec": {
   "display_name": "Python 3",
   "language": "python",
   "name": "python3"
  },
  "language_info": {
   "codemirror_mode": {
    "name": "ipython",
    "version": 3
   },
   "file_extension": ".py",
   "mimetype": "text/x-python",
   "name": "python",
   "nbconvert_exporter": "python",
   "pygments_lexer": "ipython3",
   "version": "3.5.3"
  }
 },
 "nbformat": 4,
 "nbformat_minor": 4
}
